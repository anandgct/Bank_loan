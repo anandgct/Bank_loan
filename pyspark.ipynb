{
 "cells": [
  {
   "cell_type": "code",
   "execution_count": 56,
   "id": "cb7cff69",
   "metadata": {},
   "outputs": [],
   "source": [
    "import pyspark"
   ]
  },
  {
   "cell_type": "code",
   "execution_count": 57,
   "id": "1fdb65e5",
   "metadata": {},
   "outputs": [],
   "source": [
    "from pyspark.sql import SparkSession\n",
    "import pyspark.sql.functions as F\n",
    "from  pyspark.sql.functions import isnan, when, count, col,avg,mean,expr\n",
    "\n"
   ]
  },
  {
   "cell_type": "code",
   "execution_count": 58,
   "id": "f0268616",
   "metadata": {},
   "outputs": [],
   "source": [
    "spark=SparkSession.builder.appName('practise').getOrCreate()"
   ]
  },
  {
   "cell_type": "code",
   "execution_count": 59,
   "id": "7ed4df2b",
   "metadata": {},
   "outputs": [
    {
     "data": {
      "text/html": [
       "\n",
       "            <div>\n",
       "                <p><b>SparkSession - in-memory</b></p>\n",
       "                \n",
       "        <div>\n",
       "            <p><b>SparkContext</b></p>\n",
       "\n",
       "            <p><a href=\"http://gbbcstmpl01.coventry.ac.uk:4040\">Spark UI</a></p>\n",
       "\n",
       "            <dl>\n",
       "              <dt>Version</dt>\n",
       "                <dd><code>v3.1.2</code></dd>\n",
       "              <dt>Master</dt>\n",
       "                <dd><code>local[*]</code></dd>\n",
       "              <dt>AppName</dt>\n",
       "                <dd><code>practise</code></dd>\n",
       "            </dl>\n",
       "        </div>\n",
       "        \n",
       "            </div>\n",
       "        "
      ],
      "text/plain": [
       "<pyspark.sql.session.SparkSession at 0x19ecf5b4f40>"
      ]
     },
     "execution_count": 59,
     "metadata": {},
     "output_type": "execute_result"
    }
   ],
   "source": [
    "spark"
   ]
  },
  {
   "cell_type": "code",
   "execution_count": 121,
   "id": "55275388",
   "metadata": {},
   "outputs": [],
   "source": [
    "#######To read the CSV files\n",
    "df_pyspark=spark.read.csv(r'C:\\Users\\91915\\Downloads\\train.csv', header=True, inferSchema=True)\n"
   ]
  },
  {
   "cell_type": "code",
   "execution_count": 122,
   "id": "70e9920c",
   "metadata": {},
   "outputs": [],
   "source": [
    "df_preprc=  df_pyspark.withColumn(\"Loan Title\",when(col(\"Loan Title\").isin('Debt Consolidation 2013','Debt Reduction','Debt','conso', 'debt loan','get out of debt','Consolidated','Debt Payoff', 'Loan Consolidation','relief','Lending Club','Debt Loan', 'CONSOLIDATION','Get Debt Free','Freedom','consolidation','Lending loan', 'Debt Free','Debt Consolidation Loan','Debt payoff','debt consolidation loan', 'Consolidation','Debt Consolidation','Debt consolidation','CONSOLIDATE', 'DEBT CONSOLIDATION','Consolidation Loan','consolidation loan','debt consolidation', 'consolidate','Consolidate','debt','Dept consolidation'),'debt_consolidation').otherwise(col(\"Loan Title\")))"
   ]
  },
  {
   "cell_type": "code",
   "execution_count": 123,
   "id": "bb5ed923",
   "metadata": {},
   "outputs": [],
   "source": [
    "df_preprc=  df_preprc.withColumn(\"Loan Title\",when(col(\"Loan Title\").isin('Credit Card consolidation' , 'CC Refi' ,'pay off bills' ,'CC-Refinance' ,'Refinance Loan' , 'bills' ,'Credit' ,'Credit Card Paydown' ,'Credit Card Refinance Loan' , 'credit pay off' ,'Credit card refinancing' ,'CC Loan' ,'credit card refinance' , 'Credit Card Loan' ,'Credit Card Consolidation' ,'Card Consolidation' ,'CC consolidation' , 'Bill Payoff' ,'Credit Consolidation' ,'credit card consolidation' ,'Refinance' , 'refi' ,'Credit Card Debt' ,'Credit card payoff' ,'Credit Card Refinance' ,'CC Consolidation' , 'payoff' ,'Credit Cards' ,'CC Refinance' ,'Credit card pay off' ,'cards' , 'credit card' ,'Credit Card Refi' ,'Cards' ,'Pay Off' , 'Credit Loan' ,'Credit Card Payoff' ,'CC' ,'Payoff' , 'Credit card refinance' ,'Bill Consolidation' ,'Credit payoff'),'credit_card').otherwise(col(\"Loan Title\")))"
   ]
  },
  {
   "cell_type": "code",
   "execution_count": 124,
   "id": "9d496a4e",
   "metadata": {},
   "outputs": [],
   "source": [
    "df_preprc=  df_preprc.withColumn(\"Loan Title\",when(col(\"Loan Title\").isin('Home improvement', 'Home Improvement', 'Home Improvement Loan', 'home improvement', 'Pool', 'Home buying', 'House', 'Home', 'Bathroom', 'Home loan', 'Getting Ahead', 'Moving and relocation'),'home_and_improvement').otherwise(col(\"Loan Title\")))"
   ]
  },
  {
   "cell_type": "code",
   "execution_count": 125,
   "id": "79d39e10",
   "metadata": {},
   "outputs": [],
   "source": [
    "df_preprc=  df_preprc.withColumn(\"Loan Title\",when(col(\"Loan Title\").isin('vacation', 'Vacation'),'vacation').otherwise(col(\"Loan Title\")))"
   ]
  },
  {
   "cell_type": "code",
   "execution_count": 126,
   "id": "368414fc",
   "metadata": {},
   "outputs": [],
   "source": [
    "df_preprc=  df_preprc.withColumn(\"Loan Title\",when(col(\"Loan Title\").isin('MYLOAN' ,'Personal' , 'Personal Loan' ,'loan1' ,'Loan 1' ,'My Loan' , 'Loan' ,'Personal loan' ,'Major purchase', 'personal'),'personal').otherwise(col(\"Loan Title\")))"
   ]
  },
  {
   "cell_type": "code",
   "execution_count": 127,
   "id": "8203dc7c",
   "metadata": {},
   "outputs": [],
   "source": [
    "df_preprc=  df_preprc.withColumn(\"Loan Title\",when(col(\"Loan Title\").isin('Medical expenses', 'Medical loan', 'Medical'),'medical_loan').otherwise(col(\"Loan Title\")))"
   ]
  },
  {
   "cell_type": "code",
   "execution_count": 128,
   "id": "eb416599",
   "metadata": {},
   "outputs": [],
   "source": [
    "df_preprc=  df_preprc.withColumn(\"Loan Title\",when(col(\"Loan Title\").isin('Car Loan', 'Car financing' ,'car'),'car').otherwise(col(\"Loan Title\")))"
   ]
  },
  {
   "cell_type": "code",
   "execution_count": 129,
   "id": "8a43f763",
   "metadata": {},
   "outputs": [],
   "source": [
    "df_preprc=  df_preprc.withColumn(\"Loan Title\",when(col(\"Loan Title\").isin('Wedding Loan'),'wedding_loan').otherwise(col(\"Loan Title\")))"
   ]
  },
  {
   "cell_type": "code",
   "execution_count": 130,
   "id": "278ac4f5",
   "metadata": {},
   "outputs": [],
   "source": [
    "df_preprc=  df_preprc.withColumn(\"Loan Title\",when(col(\"Loan Title\").isin('Business'),'business').otherwise(col(\"Loan Title\")))"
   ]
  },
  {
   "cell_type": "code",
   "execution_count": 131,
   "id": "8164c84b",
   "metadata": {},
   "outputs": [],
   "source": [
    "df_preprc=  df_preprc.withColumn(\"Loan Title\",when(col(\"Loan Title\").isin('Green loan'),'renewable_energy').otherwise(col(\"Loan Title\")))"
   ]
  },
  {
   "cell_type": "code",
   "execution_count": 132,
   "id": "242a76f5",
   "metadata": {},
   "outputs": [],
   "source": [
    "df_preprc=  df_preprc.withColumn(\"Loan Title\",when(col(\"Loan Title\").isin('Other'),'other').otherwise(col(\"Loan Title\")))"
   ]
  },
  {
   "cell_type": "code",
   "execution_count": 133,
   "id": "f33dd147",
   "metadata": {},
   "outputs": [],
   "source": [
    "df_preprc=  df_preprc.withColumn('Verification Status',when(col('Verification Status').isin('Source Verified'),'Verified').otherwise(col(\"Verification Status\")))"
   ]
  },
  {
   "cell_type": "code",
   "execution_count": 134,
   "id": "f55be137",
   "metadata": {},
   "outputs": [],
   "source": [
    "import pyspark.sql.functions as F\n",
    "for c_name, c_type in df_preprc.dtypes:\n",
    "    if c_type in ('double', 'float'):\n",
    "        df = df_preprc.withColumn(c_name, F.round(c_name, 2))\n",
    "        df_preprc=df"
   ]
  },
  {
   "cell_type": "code",
   "execution_count": 135,
   "id": "52296038",
   "metadata": {},
   "outputs": [],
   "source": [
    "##########To change the column name\n",
    "df_preprc=df_preprc.withColumnRenamed('Delinquency - two years','Delinquency')\\\n",
    ".withColumnRenamed('Inquires - six months','Inquires')\\\n",
    ".withColumnRenamed(\"Employment Duration\", 'Home_Ownership')\\\n",
    ".withColumnRenamed(\"Home Ownership\", 'Employment_Duration')\\\n",
    ".withColumnRenamed('Debit to Income','DTI')\\\n",
    ".withColumnRenamed('Funded Amount Investor','FAI')\\\n",
    ".withColumnRenamed('Revolving.Utilities','RU')\\\n",
    ".withColumnRenamed('Initial List Status','ILS')\\\n",
    ".withColumnRenamed('Total Received Interest','TRI')\\\n",
    ".withColumnRenamed('Total Received Late Fee','TRLF')\\\n",
    ".withColumnRenamed('Collection Recovery Fee','CRF')\\\n",
    ".withColumnRenamed('Collection 12 months Medical','CM12')\\\n",
    ".withColumnRenamed('Total Collection Amount','TCA')\\\n",
    ".withColumnRenamed('Total Current Balance','TCB')\\\n",
    ".withColumnRenamed('Total Revolving Credit Limit','TRCL')"
   ]
  },
  {
   "cell_type": "code",
   "execution_count": 136,
   "id": "e8493beb",
   "metadata": {},
   "outputs": [],
   "source": [
    "df_preprc=df_preprc.withColumn('total_recovery_fee',expr('CRF+Recoveries'))"
   ]
  },
  {
   "cell_type": "code",
   "execution_count": 137,
   "id": "63399938",
   "metadata": {},
   "outputs": [],
   "source": [
    "df_preprc=df_preprc.withColumn('total_recovery_fee',F.round('total_recovery_fee',2))"
   ]
  },
  {
   "cell_type": "code",
   "execution_count": 138,
   "id": "a608ef91",
   "metadata": {},
   "outputs": [],
   "source": [
    "#### remove the ID column \n",
    "\n",
    "df_preprc=df_preprc.drop('ID', 'Batch Enrolled', 'Payment Plan', 'Accounts Delinquent','CRF','Recoveries')"
   ]
  },
  {
   "cell_type": "code",
   "execution_count": 139,
   "id": "79abacc3",
   "metadata": {
    "scrolled": false
   },
   "outputs": [
    {
     "data": {
      "text/plain": [
       "[('Loan Amount', 'int'),\n",
       " ('Funded Amount', 'int'),\n",
       " ('FAI', 'double'),\n",
       " ('Term', 'int'),\n",
       " ('Interest Rate', 'double'),\n",
       " ('Grade', 'string'),\n",
       " ('Sub Grade', 'string'),\n",
       " ('Home_Ownership', 'string'),\n",
       " ('Employment_Duration', 'double'),\n",
       " ('Verification Status', 'string'),\n",
       " ('Loan Title', 'string'),\n",
       " ('DTI', 'double'),\n",
       " ('Delinquency', 'int'),\n",
       " ('Inquires', 'int'),\n",
       " ('Open Account', 'int'),\n",
       " ('Public Record', 'int'),\n",
       " ('Revolving Balance', 'int'),\n",
       " ('Revolving Utilities', 'double'),\n",
       " ('Total Accounts', 'int'),\n",
       " ('ILS', 'string'),\n",
       " ('TRI', 'double'),\n",
       " ('TRLF', 'double'),\n",
       " ('CM12', 'int'),\n",
       " ('Application Type', 'string'),\n",
       " ('Last week Pay', 'int'),\n",
       " ('TCA', 'int'),\n",
       " ('TCB', 'int'),\n",
       " ('TRCL', 'int'),\n",
       " ('Loan Status', 'int'),\n",
       " ('total_recovery_fee', 'double')]"
      ]
     },
     "execution_count": 139,
     "metadata": {},
     "output_type": "execute_result"
    }
   ],
   "source": [
    "df_preprc.dtypes"
   ]
  },
  {
   "cell_type": "code",
   "execution_count": 140,
   "id": "8deca74e",
   "metadata": {},
   "outputs": [],
   "source": [
    "##########preprocessing----------\n",
    "from pyspark.ml.feature import StringIndexer,OneHotEncoder"
   ]
  },
  {
   "cell_type": "code",
   "execution_count": 141,
   "id": "aff66d60",
   "metadata": {},
   "outputs": [],
   "source": [
    "Home_Ownership_c=StringIndexer(inputCol='Home_Ownership',outputCol='Home_Ownership_index')\n",
    "Verification_Status_c=StringIndexer(inputCol='Verification Status',outputCol='Verification_Status_index')\n",
    "Loan_Title_c=StringIndexer(inputCol='Loan Title',outputCol='Loan_Title_index')\n",
    "ILS_c=StringIndexer(inputCol='ILS',outputCol='ILS_index')\n",
    "Application_Type_c=StringIndexer(inputCol='Application Type',outputCol='Application_Type_index')\n",
    "Grade_c=StringIndexer(inputCol='Grade',outputCol='Grade_index')\n",
    "Sub_Grade_c=StringIndexer(inputCol='Sub Grade',outputCol='Sub_Grade_index')"
   ]
  },
  {
   "cell_type": "code",
   "execution_count": 142,
   "id": "91fc4b07",
   "metadata": {},
   "outputs": [],
   "source": [
    "df_preprc=Home_Ownership_c.fit(df_preprc).transform(df_preprc)\n"
   ]
  },
  {
   "cell_type": "code",
   "execution_count": 143,
   "id": "9cf2f91f",
   "metadata": {},
   "outputs": [],
   "source": [
    "df_preprc=Verification_Status_c.fit(df_preprc).transform(df_preprc)\n"
   ]
  },
  {
   "cell_type": "code",
   "execution_count": 144,
   "id": "2e0048b6",
   "metadata": {},
   "outputs": [],
   "source": [
    "df_preprc=Loan_Title_c.fit(df_preprc).transform(df_preprc)\n"
   ]
  },
  {
   "cell_type": "code",
   "execution_count": 145,
   "id": "548649bf",
   "metadata": {},
   "outputs": [],
   "source": [
    "df_preprc=ILS_c.fit(df_preprc).transform(df_preprc)\n"
   ]
  },
  {
   "cell_type": "code",
   "execution_count": 146,
   "id": "c97afd5f",
   "metadata": {},
   "outputs": [],
   "source": [
    "df_preprc=Application_Type_c.fit(df_preprc).transform(df_preprc)\n"
   ]
  },
  {
   "cell_type": "code",
   "execution_count": 147,
   "id": "89d2deae",
   "metadata": {},
   "outputs": [],
   "source": [
    "df_preprc=Grade_c.fit(df_preprc).transform(df_preprc)\n"
   ]
  },
  {
   "cell_type": "code",
   "execution_count": 148,
   "id": "cfa78468",
   "metadata": {},
   "outputs": [],
   "source": [
    "df_preprc=Sub_Grade_c.fit(df_preprc).transform(df_preprc)\n"
   ]
  },
  {
   "cell_type": "code",
   "execution_count": 149,
   "id": "31180083",
   "metadata": {},
   "outputs": [
    {
     "name": "stdout",
     "output_type": "stream",
     "text": [
      "+-----------+-------------+--------+----+-------------+-----+---------+--------------+-------------------+-------------------+------------------+-----+-----------+--------+------------+-------------+-----------------+-------------------+--------------+---+-------+----+----+----------------+-------------+---+------+----+-----------+------------------+--------------------+-------------------------+----------------+---------+----------------------+-----------+---------------+\n",
      "|Loan Amount|Funded Amount|     FAI|Term|Interest Rate|Grade|Sub Grade|Home_Ownership|Employment_Duration|Verification Status|        Loan Title|  DTI|Delinquency|Inquires|Open Account|Public Record|Revolving Balance|Revolving Utilities|Total Accounts|ILS|    TRI|TRLF|CM12|Application Type|Last week Pay|TCA|   TCB|TRCL|Loan Status|total_recovery_fee|Home_Ownership_index|Verification_Status_index|Loan_Title_index|ILS_index|Application_Type_index|Grade_index|Sub_Grade_index|\n",
      "+-----------+-------------+--------+----+-------------+-----+---------+--------------+-------------------+-------------------+------------------+-----+-----------+--------+------------+-------------+-----------------+-------------------+--------------+---+-------+----+----+----------------+-------------+---+------+----+-----------+------------------+--------------------+-------------------------+----------------+---------+----------------------+-----------+---------------+\n",
      "|      10000|        32236|12329.36|  59|        11.14|    B|       C4|      MORTGAGE|          176346.63|       Not Verified|debt_consolidation|16.28|          1|       0|          13|            0|            24246|              74.93|             7|  w|2929.65| 0.1|   0|      INDIVIDUAL|           49| 31|311301|6619|          0|              3.29|                 0.0|                      1.0|             1.0|      0.0|                   0.0|        1.0|            7.0|\n",
      "+-----------+-------------+--------+----+-------------+-----+---------+--------------+-------------------+-------------------+------------------+-----+-----------+--------+------------+-------------+-----------------+-------------------+--------------+---+-------+----+----+----------------+-------------+---+------+----+-----------+------------------+--------------------+-------------------------+----------------+---------+----------------------+-----------+---------------+\n",
      "only showing top 1 row\n",
      "\n"
     ]
    }
   ],
   "source": [
    "df_preprc.show(1)"
   ]
  },
  {
   "cell_type": "code",
   "execution_count": 150,
   "id": "c39c049e",
   "metadata": {},
   "outputs": [],
   "source": [
    "one_hot=OneHotEncoder(inputCols=['Home_Ownership_index','Verification_Status_index','Loan_Title_index','ILS_index','Application_Type_index','Grade_index','Sub_Grade_index'],outputCols=['Home_Ownership_One','Verification_Status_One','Loan_Title_One','ILS_One','Application_Type_One','Grade_One','Sub_Grade_one'])"
   ]
  },
  {
   "cell_type": "code",
   "execution_count": 151,
   "id": "b83c782a",
   "metadata": {},
   "outputs": [],
   "source": [
    "df_preprc=one_hot.fit(df_preprc).transform(df_preprc)"
   ]
  },
  {
   "cell_type": "code",
   "execution_count": 152,
   "id": "159ea98d",
   "metadata": {},
   "outputs": [],
   "source": [
    "from pyspark.ml.feature import VectorAssembler"
   ]
  },
  {
   "cell_type": "code",
   "execution_count": 153,
   "id": "675ba876",
   "metadata": {},
   "outputs": [],
   "source": [
    "assemble=VectorAssembler(inputCols=['Loan Amount','Funded Amount','FAI','Term','Interest Rate','Employment_Duration','Delinquency','Inquires','Open Account','Public Record','Revolving Balance','Revolving Utilities','Total Accounts','TRI','TRLF','CM12','Last week Pay','TCA','TCB','TRCL','Home_Ownership_index','Verification_Status_index','Loan_Title_index','ILS_index','Application_Type_index','Grade_index','Sub_Grade_index','total_recovery_fee','Home_Ownership_One','Verification_Status_One','Loan_Title_One','ILS_One','Application_Type_One','Grade_One','Sub_Grade_one'],outputCol='features')"
   ]
  },
  {
   "cell_type": "code",
   "execution_count": 154,
   "id": "96f31f69",
   "metadata": {},
   "outputs": [],
   "source": [
    "fin_data=assemble.transform(df_preprc)"
   ]
  },
  {
   "cell_type": "code",
   "execution_count": 155,
   "id": "61580eab",
   "metadata": {},
   "outputs": [
    {
     "name": "stdout",
     "output_type": "stream",
     "text": [
      "+--------------------+-----------+\n",
      "|            features|Loan Status|\n",
      "+--------------------+-----------+\n",
      "|(84,[0,1,2,3,4,5,...|          0|\n",
      "|(84,[0,1,2,3,4,5,...|          0|\n",
      "|(84,[0,1,2,3,4,5,...|          0|\n",
      "|(84,[0,1,2,3,4,5,...|          0|\n",
      "|(84,[0,1,2,3,4,5,...|          0|\n",
      "|(84,[0,1,2,3,4,5,...|          0|\n",
      "|(84,[0,1,2,3,4,5,...|          0|\n",
      "|(84,[0,1,2,3,4,5,...|          0|\n",
      "|(84,[0,1,2,3,4,5,...|          0|\n",
      "|(84,[0,1,2,3,4,5,...|          0|\n",
      "|(84,[0,1,2,3,4,5,...|          0|\n",
      "|(84,[0,1,2,3,4,5,...|          0|\n",
      "|(84,[0,1,2,3,4,5,...|          0|\n",
      "|(84,[0,1,2,3,4,5,...|          0|\n",
      "|(84,[0,1,2,3,4,5,...|          0|\n",
      "|(84,[0,1,2,3,4,5,...|          1|\n",
      "|(84,[0,1,2,3,4,5,...|          0|\n",
      "|(84,[0,1,2,3,4,5,...|          0|\n",
      "|(84,[0,1,2,3,4,5,...|          0|\n",
      "|(84,[0,1,2,3,4,5,...|          1|\n",
      "+--------------------+-----------+\n",
      "only showing top 20 rows\n",
      "\n"
     ]
    }
   ],
   "source": [
    "fin_data.select('features','Loan Status').show()"
   ]
  },
  {
   "cell_type": "code",
   "execution_count": 156,
   "id": "57c0b4b7",
   "metadata": {},
   "outputs": [
    {
     "name": "stdout",
     "output_type": "stream",
     "text": [
      "root\n",
      " |-- features: vector (nullable = true)\n",
      " |-- label: integer (nullable = true)\n",
      "\n"
     ]
    }
   ],
   "source": [
    "#Modelleing\n",
    "model_df=fin_data.select(['features','Loan Status'])\n",
    "model_df=model_df.withColumnRenamed('Loan Status','label')\n",
    "model_df.printSchema()"
   ]
  },
  {
   "cell_type": "code",
   "execution_count": 157,
   "id": "3b487044",
   "metadata": {},
   "outputs": [],
   "source": [
    "#### Splitting the dataset\n",
    "train_data,test_data=model_df.randomSplit([0.75,0.25])"
   ]
  },
  {
   "cell_type": "code",
   "execution_count": 158,
   "id": "1df1d66b",
   "metadata": {},
   "outputs": [],
   "source": [
    "######### createing the model\n",
    "\n",
    "from pyspark.ml.classification import LogisticRegression\n",
    "log_ref=LogisticRegression(featuresCol='features',labelCol='Label',maxIter=5)"
   ]
  },
  {
   "cell_type": "code",
   "execution_count": 98,
   "id": "e88b9e79",
   "metadata": {},
   "outputs": [],
   "source": [
    "log_ref = log_ref.fit(train_data)\n"
   ]
  },
  {
   "cell_type": "code",
   "execution_count": 99,
   "id": "2f725bc4",
   "metadata": {},
   "outputs": [],
   "source": [
    "lr_sum=log_ref.summary"
   ]
  },
  {
   "cell_type": "code",
   "execution_count": 100,
   "id": "80c7fd40",
   "metadata": {},
   "outputs": [
    {
     "data": {
      "text/plain": [
       "0.9075977388623157"
      ]
     },
     "execution_count": 100,
     "metadata": {},
     "output_type": "execute_result"
    }
   ],
   "source": [
    "lr_sum.accuracy"
   ]
  },
  {
   "cell_type": "code",
   "execution_count": 101,
   "id": "0d3da61b",
   "metadata": {},
   "outputs": [],
   "source": [
    "pred = log_ref.evaluate(test_data)"
   ]
  },
  {
   "cell_type": "code",
   "execution_count": 102,
   "id": "92edd4e4",
   "metadata": {},
   "outputs": [
    {
     "data": {
      "text/plain": [
       "0.9071669927085186"
      ]
     },
     "execution_count": 102,
     "metadata": {},
     "output_type": "execute_result"
    }
   ],
   "source": [
    "pred.accuracy"
   ]
  },
  {
   "cell_type": "code",
   "execution_count": 103,
   "id": "78d0a0cd",
   "metadata": {},
   "outputs": [
    {
     "data": {
      "text/plain": [
       "0.5108272453693792"
      ]
     },
     "execution_count": 103,
     "metadata": {},
     "output_type": "execute_result"
    }
   ],
   "source": [
    "pred.areaUnderROC"
   ]
  },
  {
   "cell_type": "code",
   "execution_count": 159,
   "id": "6b97753e",
   "metadata": {},
   "outputs": [],
   "source": [
    "from xgboost import XGBClassifier\n"
   ]
  },
  {
   "cell_type": "code",
   "execution_count": 160,
   "id": "6fb2e0b4",
   "metadata": {},
   "outputs": [],
   "source": [
    "from sklearn.model_selection import cross_val_score\n",
    "\n"
   ]
  },
  {
   "cell_type": "code",
   "execution_count": 161,
   "id": "f16b2a8f",
   "metadata": {},
   "outputs": [],
   "source": [
    "from pyspark.ml.classification import DecisionTreeClassifier\n"
   ]
  },
  {
   "cell_type": "code",
   "execution_count": 164,
   "id": "cb0fcc54",
   "metadata": {},
   "outputs": [],
   "source": [
    "dt = DecisionTreeClassifier(featuresCol = 'features',labelCol = 'label', maxDepth = 3,maxBins=35)\n"
   ]
  },
  {
   "cell_type": "code",
   "execution_count": 165,
   "id": "af221ad9",
   "metadata": {},
   "outputs": [],
   "source": [
    "dtModel = dt.fit(train_data)\n",
    "predictions = dtModel.transform(test_data)"
   ]
  },
  {
   "cell_type": "code",
   "execution_count": 167,
   "id": "e9d0b34e",
   "metadata": {},
   "outputs": [],
   "source": [
    "from pyspark.ml.evaluation import BinaryClassificationEvaluator\n",
    "evaluator = BinaryClassificationEvaluator()"
   ]
  },
  {
   "cell_type": "code",
   "execution_count": 166,
   "id": "6ae5c4b3",
   "metadata": {},
   "outputs": [],
   "source": [
    "predictions = dtModel.transform(test_data)\n"
   ]
  },
  {
   "cell_type": "code",
   "execution_count": 168,
   "id": "9afd2f9c",
   "metadata": {},
   "outputs": [
    {
     "name": "stdout",
     "output_type": "stream",
     "text": [
      "Test Area Under ROC: 0.5\n"
     ]
    }
   ],
   "source": [
    "print(\"Test Area Under ROC: \" + str(evaluator.evaluate(predictions, {evaluator.metricName: \"areaUnderROC\"})))"
   ]
  },
  {
   "cell_type": "code",
   "execution_count": 169,
   "id": "2b5bb728",
   "metadata": {},
   "outputs": [],
   "source": [
    "from pyspark.ml.classification import RandomForestClassifier\n",
    "rf = RandomForestClassifier(featuresCol = 'features', labelCol = 'label',maxBins=35)\n",
    "rfModel = rf.fit(train_data)\n",
    "predictions = rfModel.transform(test_data)"
   ]
  },
  {
   "cell_type": "code",
   "execution_count": 170,
   "id": "f098036d",
   "metadata": {},
   "outputs": [
    {
     "name": "stdout",
     "output_type": "stream",
     "text": [
      "Test Area Under ROC: 0.5296793595875908\n"
     ]
    }
   ],
   "source": [
    "evaluator = BinaryClassificationEvaluator()\n",
    "print(\"Test Area Under ROC: \" + str(evaluator.evaluate(predictions, {evaluator.metricName: \"areaUnderROC\"})))"
   ]
  },
  {
   "cell_type": "code",
   "execution_count": 172,
   "id": "6b6fc281",
   "metadata": {},
   "outputs": [],
   "source": [
    "from pyspark.ml.classification import GBTClassifier\n",
    "gbt = GBTClassifier(maxIter=40,maxBins=35)\n",
    "gbtModel = gbt.fit(train_data)\n",
    "predictions = gbtModel.transform(test_data)"
   ]
  },
  {
   "cell_type": "code",
   "execution_count": 173,
   "id": "ace857cb",
   "metadata": {},
   "outputs": [
    {
     "name": "stdout",
     "output_type": "stream",
     "text": [
      "Test Area Under ROC: 0.5205479282520957\n"
     ]
    }
   ],
   "source": [
    "evaluator = BinaryClassificationEvaluator()\n",
    "print(\"Test Area Under ROC: \" + str(evaluator.evaluate(predictions, {evaluator.metricName: \"areaUnderROC\"})))\n",
    "evaluator.ev"
   ]
  },
  {
   "cell_type": "code",
   "execution_count": 174,
   "id": "c4018b53",
   "metadata": {},
   "outputs": [],
   "source": [
    "from sklearn.metrics import accuracy_score"
   ]
  },
  {
   "cell_type": "code",
   "execution_count": null,
   "id": "397862bb",
   "metadata": {},
   "outputs": [],
   "source": []
  }
 ],
 "metadata": {
  "kernelspec": {
   "display_name": "Python 3 (ipykernel)",
   "language": "python",
   "name": "python3"
  },
  "language_info": {
   "codemirror_mode": {
    "name": "ipython",
    "version": 3
   },
   "file_extension": ".py",
   "mimetype": "text/x-python",
   "name": "python",
   "nbconvert_exporter": "python",
   "pygments_lexer": "ipython3",
   "version": "3.10.6"
  }
 },
 "nbformat": 4,
 "nbformat_minor": 5
}
